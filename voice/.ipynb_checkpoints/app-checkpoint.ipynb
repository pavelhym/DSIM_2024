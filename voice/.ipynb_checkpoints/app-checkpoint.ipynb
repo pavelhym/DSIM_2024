{
  "cells": [
    {
      "cell_type": "code",
      "execution_count": 4,
      "metadata": {
        "id": "FpaN3gfHtx7D"
      },
      "outputs": [],
      "source": [
        "\n",
        "#!pip install streamlit-mic-recorder"
      ]
    },
    {
      "cell_type": "code",
      "execution_count": 5,
      "metadata": {
        "id": "UjYLq3K0wQ7a"
      },
      "outputs": [],
      "source": [
        "from shutil import copyfile"
      ]
    },
    {
      "cell_type": "code",
      "execution_count": 8,
      "metadata": {},
      "outputs": [
        {
          "ename": "ModuleNotFoundError",
          "evalue": "No module named 'librosa'",
          "output_type": "error",
          "traceback": [
            "\u001b[1;31m---------------------------------------------------------------------------\u001b[0m",
            "\u001b[1;31mModuleNotFoundError\u001b[0m                       Traceback (most recent call last)",
            "Cell \u001b[1;32mIn [8], line 1\u001b[0m\n\u001b[1;32m----> 1\u001b[0m \u001b[38;5;28;01mimport\u001b[39;00m \u001b[38;5;21;01mlibrosa\u001b[39;00m\n",
            "\u001b[1;31mModuleNotFoundError\u001b[0m: No module named 'librosa'"
          ]
        }
      ],
      "source": [
        "import librosa"
      ]
    },
    {
      "cell_type": "code",
      "execution_count": 3,
      "metadata": {
        "colab": {
          "base_uri": "https://localhost:8080/"
        },
        "id": "abzRVw7OEjL8",
        "outputId": "1ab7da49-adb9-48a0-c719-2b08a5c3e084"
      },
      "outputs": [
        {
          "ename": "ModuleNotFoundError",
          "evalue": "No module named 'librosa'",
          "output_type": "error",
          "traceback": [
            "\u001b[1;31m---------------------------------------------------------------------------\u001b[0m",
            "\u001b[1;31mModuleNotFoundError\u001b[0m                       Traceback (most recent call last)",
            "Cell \u001b[1;32mIn [3], line 3\u001b[0m\n\u001b[0;32m      1\u001b[0m \u001b[38;5;66;03m#%%writefile feature_extraction.py\u001b[39;00m\n\u001b[0;32m      2\u001b[0m \u001b[38;5;28;01mimport\u001b[39;00m \u001b[38;5;21;01mnumpy\u001b[39;00m \u001b[38;5;28;01mas\u001b[39;00m \u001b[38;5;21;01mnp\u001b[39;00m\n\u001b[1;32m----> 3\u001b[0m \u001b[38;5;28;01mfrom\u001b[39;00m \u001b[38;5;21;01mlibrosa\u001b[39;00m\u001b[38;5;21;01m.\u001b[39;00m\u001b[38;5;21;01mfeature\u001b[39;00m \u001b[38;5;28;01mimport\u001b[39;00m melspectrogram, mfcc, rms, zero_crossing_rate, chroma_stft\n\u001b[0;32m      6\u001b[0m \u001b[38;5;28;01mdef\u001b[39;00m \u001b[38;5;21mroot_mean_square\u001b[39m(\u001b[38;5;28minput\u001b[39m, tsize \u001b[38;5;241m=\u001b[39m \u001b[38;5;241m150\u001b[39m):\n\u001b[0;32m      7\u001b[0m   root \u001b[38;5;241m=\u001b[39m rms(y \u001b[38;5;241m=\u001b[39m \u001b[38;5;28minput\u001b[39m \u001b[38;5;241m*\u001b[39m\u001b[38;5;241m1.0\u001b[39m)\n",
            "\u001b[1;31mModuleNotFoundError\u001b[0m: No module named 'librosa'"
          ]
        }
      ],
      "source": [
        "#%%writefile feature_extraction.py\n",
        "import numpy as np\n",
        "from librosa.feature import melspectrogram, mfcc, rms, zero_crossing_rate, chroma_stft\n",
        "\n",
        "\n",
        "def root_mean_square(input, tsize = 150):\n",
        "  root = rms(y = input *1.0)\n",
        "  root = root[:, 0:min(tsize, root.shape[1])]\n",
        "  root = np.pad(root, ((0,0),(0,tsize - root.shape[1])))\n",
        "  output = np.ravel(root)\n",
        "  return output\n",
        "\n",
        "def zcr(input, tsize = 150):\n",
        "  zero = zero_crossing_rate(y = input *1.0)\n",
        "  zero = zero[:, 0:min(tsize, zero.shape[1])]\n",
        "  zero = np.pad(zero, ((0,0),(0,tsize - zero.shape[1])))\n",
        "  output = np.ravel(zero)\n",
        "  return output\n",
        "\n",
        "def chroma(input, rate, tsize = 150):\n",
        "  chroma = chroma_stft(y = input *1.0, sr=rate)\n",
        "  chroma = chroma[:, 0:min(tsize, chroma.shape[1])]\n",
        "  chroma = np.pad(chroma, ((0,0),(0,tsize - chroma.shape[1])))\n",
        "  output = np.ravel(chroma)\n",
        "  return output\n",
        "\n",
        "def feats_mel(input, rate, tsize=150):\n",
        "    mel_spec = melspectrogram(y=input*1.0, sr=rate) # Extracting the features of the Mel spectrogram\n",
        "    mel_spec = mel_spec[:, 0:min(tsize, mel_spec.shape[1])] # Considering only the first 'tsize = 10' temporal columns\n",
        "    mel_spec = np.pad(mel_spec, ((0,0),(0,tsize - mel_spec.shape[1])), 'constant', constant_values=(0)) # Adding zeros in order to have the same number of columns for each audio track\n",
        "    output = np.ravel(mel_spec)\n",
        "    return output\n",
        "\n",
        "def feats_mfcc(input, rate, tsize=150):\n",
        "    mfccs = mfcc(y=input*1.0, sr=rate, n_mfcc = 40) # Extracting the MFCC coefficients of the audio track\n",
        "    mfccs = mfccs[:, 0:min(tsize, mfccs.shape[1])] # Considering only the first 'tsize = 10' temporal columns\n",
        "    mfccs = np.pad(mfccs, ((0,0),(0,tsize - mfccs.shape[1])), 'constant', constant_values=(0)) # Adding zeros in order to have the same number of columns for each audio track\n",
        "    output = np.ravel(mfccs)\n",
        "    return output\n",
        "\n",
        "def combo(input, rate):\n",
        "    return np.concatenate((root_mean_square(input),\n",
        "                           zcr(input),\n",
        "                           chroma(input, rate=rate),\n",
        "                           feats_mel(input, rate = rate),\n",
        "                           feats_mfcc(input, rate = rate)))\n",
        "\n",
        "def extract_features(audio, sr):\n",
        "  features = []\n",
        "  features.append(combo(audio, rate = sr))\n",
        "  eps = 0.001\n",
        "  features = np.array(features)\n",
        "  features_mean = features.mean(axis=1)\n",
        "  features_std = features.std(axis=1)\n",
        "  features = (features - features_mean + eps)/(features_std + eps)\n",
        "  features = [row for row in features]\n",
        "\n",
        "  return np.array(features)"
      ]
    },
    {
      "cell_type": "code",
      "execution_count": null,
      "metadata": {
        "colab": {
          "base_uri": "https://localhost:8080/"
        },
        "id": "qzOSURzpc4vm",
        "outputId": "0ab470d2-47e2-477e-d20c-0b69978c2c7d"
      },
      "outputs": [
        {
          "name": "stdout",
          "output_type": "stream",
          "text": [
            "Overwriting prediction.py\n"
          ]
        }
      ],
      "source": [
        "%%writefile prediction.py\n",
        "from feature_extraction import root_mean_square, zcr, chroma, feats_mel, feats_mfcc, combo, extract_features\n",
        "import joblib\n",
        "\n",
        "def predict(audio, sr):\n",
        "  clf = joblib.load('/content/cnn_model.joblib')\n",
        "  features=extract_features(audio,sr)\n",
        "  return clf.predict(features)"
      ]
    },
    {
      "cell_type": "code",
      "execution_count": null,
      "metadata": {
        "colab": {
          "base_uri": "https://localhost:8080/"
        },
        "id": "Utqqmg61536W",
        "outputId": "31660b5c-1e23-4830-ed8e-fac7535db767"
      },
      "outputs": [
        {
          "name": "stdout",
          "output_type": "stream",
          "text": [
            "Overwriting detect_emotion.py\n"
          ]
        }
      ],
      "source": [
        "%%writefile detect_emotion.py\n",
        "import numpy as np\n",
        "\n",
        "def detect(array):\n",
        "  max = np.argmax(array)\n",
        "  if max == 0: return 'Angry'\n",
        "  if max == 1: return 'Calm'\n",
        "  if max == 2: return 'Disgust'\n",
        "  if max == 3: return 'Fearful'\n",
        "  if max == 4: return 'Happy'\n",
        "  if max == 5: return 'Neutral'\n",
        "  if max == 6: return 'Sad'\n",
        "  if max == 7: return 'Surprised'\n",
        "  if len(array) != 8: return 'The lenght of the array is more than 8'\n"
      ]
    },
    {
      "cell_type": "code",
      "execution_count": null,
      "metadata": {
        "colab": {
          "base_uri": "https://localhost:8080/"
        },
        "id": "yCmLHUK3GSoX",
        "outputId": "86480997-78cb-4b6f-d3b5-1d1a2c04fccc"
      },
      "outputs": [
        {
          "name": "stdout",
          "output_type": "stream",
          "text": [
            "Overwriting app.py\n"
          ]
        }
      ],
      "source": [
        "%%writefile app.py\n",
        "import streamlit as st\n",
        "from streamlit_mic_recorder import mic_recorder\n",
        "from prediction import predict\n",
        "import numpy as np\n",
        "from detect_emotion import detect\n",
        "\n",
        "st.header('Predictions of Audio Signals', divider='red')\n",
        "st.write(\"Record your voice, play the recorded audio and predict the emotion:\")\n",
        "audio=mic_recorder(key='recorder')\n",
        "\n",
        "\n",
        "if audio:\n",
        "  st.audio(audio['bytes'])\n",
        "  if st.button('Predict Emotion'):\n",
        "    audio_array = np.frombuffer(audio['bytes'], dtype=np.int16)\n",
        "    result = predict(audio=audio_array, sr=audio['sample_rate'])\n",
        "    st.text(f\"You are {detect(result)}!\")\n",
        "\n",
        "\n",
        "\n",
        "\n"
      ]
    },
    {
      "cell_type": "code",
      "execution_count": null,
      "metadata": {
        "colab": {
          "base_uri": "https://localhost:8080/"
        },
        "id": "rk0cwlVb7sfe",
        "outputId": "4b091780-94b9-41f8-bd9b-d8d80dae742a"
      },
      "outputs": [
        {
          "name": "stdout",
          "output_type": "stream",
          "text": [
            "34.86.246.40\n"
          ]
        }
      ],
      "source": [
        "!wget -q -O  - ipv4.icanhazip.com"
      ]
    },
    {
      "cell_type": "code",
      "execution_count": null,
      "metadata": {
        "colab": {
          "background_save": true,
          "base_uri": "https://localhost:8080/"
        },
        "id": "kTA_Vqk0PWJz",
        "outputId": "11f4b95c-4355-402c-aa03-c924ad8d2900"
      },
      "outputs": [
        {
          "name": "stdout",
          "output_type": "stream",
          "text": [
            "\u001b[K\u001b[?25hnpx: installed 22 in 5.87s\n",
            "your url is: https://chilly-eggs-drum.loca.lt\n"
          ]
        }
      ],
      "source": [
        "!streamlit run /content/app.py &>/content/logs.txt & npx localtunnel --port 8501"
      ]
    },
    {
      "cell_type": "code",
      "execution_count": null,
      "metadata": {
        "id": "2L2iYlrrsN3G"
      },
      "outputs": [],
      "source": []
    }
  ],
  "metadata": {
    "colab": {
      "provenance": []
    },
    "kernelspec": {
      "display_name": "Python 3",
      "name": "python3"
    },
    "language_info": {
      "codemirror_mode": {
        "name": "ipython",
        "version": 3
      },
      "file_extension": ".py",
      "mimetype": "text/x-python",
      "name": "python",
      "nbconvert_exporter": "python",
      "pygments_lexer": "ipython3",
      "version": "3.10.12"
    }
  },
  "nbformat": 4,
  "nbformat_minor": 0
}
